{
 "cells": [
  {
   "cell_type": "code",
   "execution_count": 14,
   "id": "8f04ca02",
   "metadata": {},
   "outputs": [],
   "source": [
    "import albumentations as A\n",
    "import random\n",
    "\n",
    "transform = A.Compose([\n",
    "        A.HorizontalFlip(p=0.5),\n",
    "        A.OneOf([\n",
    "            A.GaussNoise(),\n",
    "            A.GaussNoise(),\n",
    "        ], p=0.2),\n",
    "        A.OneOf([\n",
    "            A.MotionBlur(p=.2),\n",
    "            A.MedianBlur(blur_limit=3, p=0.1),\n",
    "            A.Blur(blur_limit=3, p=0.1),\n",
    "        ], p=0.1),\n",
    "        A.ShiftScaleRotate(shift_limit=0.0625, scale_limit=0.2, rotate_limit=20, p=0.4),\n",
    "        A.OneOf([\n",
    "            A.OpticalDistortion(p=0.2),\n",
    "            A.GridDistortion(p=.1),\n",
    "        ], p=0.2),\n",
    "        A.OneOf([\n",
    "            A.CLAHE(clip_limit=2),\n",
    "            A.Sharpen(),\n",
    "            A.Emboss(),\n",
    "            A.RandomBrightnessContrast(),            \n",
    "        ], p=0.3),\n",
    "        A.HueSaturationValue(p=0.2),\n",
    "    ])"
   ]
  },
  {
   "cell_type": "code",
   "execution_count": 18,
   "id": "9086aae6",
   "metadata": {},
   "outputs": [
    {
     "name": "stdout",
     "output_type": "stream",
     "text": [
      "\n",
      " [INFO] Initializing face capture. Look the camera and wait ...\n",
      "\n",
      " [INFO] Exiting Program and cleanup stuff\n",
      "3\n"
     ]
    },
    {
     "ename": "SystemExit",
     "evalue": "",
     "output_type": "error",
     "traceback": [
      "An exception has occurred, use %tb to see the full traceback.\n",
      "\u001b[1;31mSystemExit\u001b[0m\n"
     ]
    }
   ],
   "source": [
    "import cv2\n",
    "import numpy as np\n",
    "import os\n",
    "import sys # to access the system\n",
    "\n",
    "face_detector = cv2.CascadeClassifier('haarcascade_frontalface_default.xml')\n",
    "\n",
    "cam = cv2.VideoCapture(0)\n",
    "cam.set(3, 640) # set video width\n",
    "cam.set(4, 480) # set video height\n",
    "\n",
    "face_id = -1\n",
    "with open('name.txt', mode ='r')as file:\n",
    "    reader=file.readlines()\n",
    "    \n",
    "    if(len(reader)!=0):\n",
    "        x=reader[len(reader)-1]\n",
    "        face_id=int(x)+1 #Giving new employee id according to the last id\n",
    "    else:\n",
    "        face_id=1\n",
    "\n",
    "face_id = str(face_id)    \n",
    "\n",
    "    \n",
    "print(\"\\n [INFO] Initializing face capture. Look the camera and wait ...\")\n",
    "# Initialize individual sampling face count\n",
    "count = 0\n",
    "\n",
    "img = np.array([])\n",
    "\n",
    "while(True):\n",
    "\n",
    "    ret, img = cam.read()\n",
    "    count += 1\n",
    "    # Press 'ESC' for exiting video\n",
    "    k = cv2.waitKey(1000) & 0xff\n",
    "    if k == 27:\n",
    "        break\n",
    "    elif count >= 1: # Take 1 face sample and stop video\n",
    "        break\n",
    "\n",
    "# Do a bit of cleanup\n",
    "print(\"\\n [INFO] Exiting Program and cleanup stuff\")\n",
    "cam.release()\n",
    "cv2.destroyAllWindows()\n",
    "\n",
    "# Save the captured image into the img folder\n",
    "cv2.imwrite(\"img/\" + face_id + \".jpg\", img)\n",
    "print(face_id)\n",
    "\n",
    "#gray scaling of image\n",
    "gray = cv2.cvtColor(img, cv2.COLOR_BGR2GRAY)\n",
    "faces = face_detector.detectMultiScale(gray, 1.3, 2)\n",
    "\n",
    "for (x,y,w,h) in faces:\n",
    "\n",
    "    cv2.rectangle(img, (x,y), (x+w,y+h), (0,255,0), 3)     \n",
    "\n",
    "        # Save the captured image into the datasets folder\n",
    "    cv2.imwrite(\"dataset/User.\" + str(face_id) + '.' + str(0) + \".jpg\", gray[y:y+h,x:x+w])\n",
    "\n",
    "#For checking if the captured image is proper or not\n",
    "while True:\n",
    "    cv2.imshow(\"image\", gray[y:y+h,x:x+w])\n",
    "    cv2.waitKey(0)\n",
    "    sys.exit() # to exit from all the processes\n",
    "\n",
    "cv2.destroyAllWindows() # destroy all windows"
   ]
  },
  {
   "cell_type": "code",
   "execution_count": 19,
   "id": "63e782ed",
   "metadata": {},
   "outputs": [
    {
     "name": "stderr",
     "output_type": "stream",
     "text": [
      "100%|███████████████████████████████████████████████████████████████████████████████| 500/500 [00:01<00:00, 438.35it/s]\n"
     ]
    }
   ],
   "source": [
    "from tqdm import tqdm \n",
    "\n",
    "#Adding the new Id in name.txt file\n",
    "f = open(\"name.txt\", 'a+')\n",
    "if(int(face_id)==1):\n",
    "    f.write(str(0) + '\\n')\n",
    "    f.write(face_id + '\\n')\n",
    "else:\n",
    "    f.write(face_id + '\\n')\n",
    "f.close()\n",
    "\n",
    "#Synthesising of data using augmentation \n",
    "count=1\n",
    "for i in tqdm(range(500)):\n",
    "    augmented_image = transform(image=gray[y:y+h,x:x+w])['image']\n",
    "    cv2.imwrite(\"dataset/User.\" + str(face_id) + '.' + str(count) + \".jpg\", augmented_image)\n",
    "    count=count+1"
   ]
  }
 ],
 "metadata": {
  "kernelspec": {
   "display_name": "Python 3 (ipykernel)",
   "language": "python",
   "name": "python3"
  },
  "language_info": {
   "codemirror_mode": {
    "name": "ipython",
    "version": 3
   },
   "file_extension": ".py",
   "mimetype": "text/x-python",
   "name": "python",
   "nbconvert_exporter": "python",
   "pygments_lexer": "ipython3",
   "version": "3.9.7"
  }
 },
 "nbformat": 4,
 "nbformat_minor": 5
}
